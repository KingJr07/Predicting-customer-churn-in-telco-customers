{
 "cells": [
  {
   "cell_type": "code",
   "execution_count": 37,
   "id": "710c0d12-218b-4a5d-84e9-535d5c200ce4",
   "metadata": {},
   "outputs": [
    {
     "name": "stdout",
     "output_type": "stream",
     "text": [
      "customerID                               0\n",
      "SeniorCitizen                            0\n",
      "tenure                                   0\n",
      "MonthlyCharges                           0\n",
      "TotalCharges                             0\n",
      "Churn                                    0\n",
      "gender_Male                              0\n",
      "Partner_Yes                              0\n",
      "Dependents_Yes                           0\n",
      "PhoneService_Yes                         0\n",
      "MultipleLines_No phone service           0\n",
      "MultipleLines_Yes                        0\n",
      "InternetService_Fiber optic              0\n",
      "InternetService_No                       0\n",
      "OnlineSecurity_No internet service       0\n",
      "OnlineSecurity_Yes                       0\n",
      "OnlineBackup_No internet service         0\n",
      "OnlineBackup_Yes                         0\n",
      "DeviceProtection_No internet service     0\n",
      "DeviceProtection_Yes                     0\n",
      "TechSupport_No internet service          0\n",
      "TechSupport_Yes                          0\n",
      "StreamingTV_No internet service          0\n",
      "StreamingTV_Yes                          0\n",
      "StreamingMovies_No internet service      0\n",
      "StreamingMovies_Yes                      0\n",
      "Contract_One year                        0\n",
      "Contract_Two year                        0\n",
      "PaperlessBilling_Yes                     0\n",
      "PaymentMethod_Credit card (automatic)    0\n",
      "PaymentMethod_Electronic check           0\n",
      "PaymentMethod_Mailed check               0\n",
      "dtype: int64\n"
     ]
    }
   ],
   "source": [
    "# Check for missing values in your DataFrame\n",
    "missing_values = df.isnull().sum()\n",
    "print(missing_values)\n"
   ]
  },
  {
   "cell_type": "code",
   "execution_count": 1,
   "id": "22d192ca-7711-40c9-87ae-d869626f4a0d",
   "metadata": {},
   "outputs": [
    {
     "name": "stdout",
     "output_type": "stream",
     "text": [
      "Accuracy: 0.7898921067575241\n",
      "Confusion matrix:\n",
      " [[1134  159]\n",
      " [ 211  257]]\n",
      "Classification report:\n",
      "               precision    recall  f1-score   support\n",
      "\n",
      "           0       0.84      0.88      0.86      1293\n",
      "           1       0.62      0.55      0.58       468\n",
      "\n",
      "    accuracy                           0.79      1761\n",
      "   macro avg       0.73      0.71      0.72      1761\n",
      "weighted avg       0.78      0.79      0.79      1761\n",
      "\n"
     ]
    },
    {
     "name": "stderr",
     "output_type": "stream",
     "text": [
      "D:\\ImageClassification\\imageclassification\\lib\\site-packages\\sklearn\\linear_model\\_logistic.py:458: ConvergenceWarning: lbfgs failed to converge (status=1):\n",
      "STOP: TOTAL NO. of ITERATIONS REACHED LIMIT.\n",
      "\n",
      "Increase the number of iterations (max_iter) or scale the data as shown in:\n",
      "    https://scikit-learn.org/stable/modules/preprocessing.html\n",
      "Please also refer to the documentation for alternative solver options:\n",
      "    https://scikit-learn.org/stable/modules/linear_model.html#logistic-regression\n",
      "  n_iter_i = _check_optimize_result(\n"
     ]
    }
   ],
   "source": [
    "import pandas as pd\n",
    "from sklearn.model_selection import train_test_split\n",
    "from sklearn.linear_model import LogisticRegression\n",
    "from sklearn.preprocessing import LabelEncoder\n",
    "from sklearn.metrics import confusion_matrix\n",
    "from sklearn.metrics import classification_report\n",
    "\n",
    "\n",
    "\n",
    "# Load the CSV file\n",
    "df=pd.read_csv(r'WA_Fn-UseC_-Telco-Customer-Churn.csv')\n",
    "\n",
    "# Identify the string columns\n",
    "string_columns = df.select_dtypes(include=['object']).columns\n",
    "\n",
    "# Create a LabelEncoder object for each string column\n",
    "## This line caused the error:\n",
    "#label_encoders[column] = LabelEncoder()\n",
    "\n",
    "## Replace the above line with the following two lines:\n",
    "label_encoders = {}\n",
    "for column in string_columns:\n",
    "    label_encoders[column] = LabelEncoder()\n",
    "\n",
    "# Encode the string values in each column\n",
    "for column in string_columns:\n",
    "    df[column] = label_encoders[column].fit_transform(df[column])\n",
    "\n",
    "# Split the data into features and target\n",
    "#X = df.drop('Churn', axis=1)\n",
    "\n",
    "#X=df.drop('customerID', axis=1)\n",
    "X = df.drop(columns=['Churn', 'customerID'])\n",
    "\n",
    "y = df['Churn']\n",
    "\n",
    "\n",
    "# Split the data into training and test sets\n",
    "X_train, X_test, y_train, y_test = train_test_split(X, y, test_size=0.25)\n",
    "\n",
    "\n",
    "\n",
    "# Create the logistic regression model\n",
    "model = LogisticRegression(C=0.1)\n",
    "\"\"\"\n",
    "This code uses a regularization parameter of C=0.1. This means that the model will be penalized for having large coefficients.\n",
    "\"\"\"\n",
    "# Fit the model to the encoded data\n",
    "model.fit(X_train, y_train)\n",
    "\n",
    "# Make predictions on the test data\n",
    "y_pred = model.predict(X_test)\n",
    "\n",
    "# Calculate the accuracy of the model\n",
    "accuracy = model.score(X_test, y_test)\n",
    "\n",
    "# Calculate the confusion matrix\n",
    "# Calculate the confusion matrix\n",
    "confusion_matrix = confusion_matrix(y_test, y_pred)\n",
    "\n",
    "\n",
    "# Calculate the classification report\n",
    "classification_report = classification_report(y_test, y_pred)\n",
    "\n",
    "# Print the results\n",
    "print('Accuracy:', accuracy)\n",
    "print('Confusion matrix:\\n', confusion_matrix)\n",
    "print('Classification report:\\n', classification_report)\n"
   ]
  },
  {
   "cell_type": "code",
   "execution_count": 2,
   "id": "81db9258-c1e8-458c-a308-0d2a1da138fa",
   "metadata": {},
   "outputs": [
    {
     "data": {
      "image/png": "[encoded data removed]",
      "text/plain": [
       "<Figure size 640x480 with 2 Axes>"
      ]
     },
     "metadata": {},
     "output_type": "display_data"
    }
   ],
   "source": [
    "from sklearn.metrics import confusion_matrix\n",
    "import matplotlib.pyplot as plt\n",
    "\n",
    "# Calculate the confusion matrix\n",
    "cm = confusion_matrix(y_test, y_pred)\n",
    "\n",
    "# Create a confusion matrix plot\n",
    "plt.figure()\n",
    "plt.imshow(cm, interpolation='nearest', cmap='Blues')\n",
    "\n",
    "# Add labels to the plot\n",
    "plt.xticks(range(len(cm)), labels=df.Churn.unique(), rotation=45)\n",
    "plt.yticks(range(len(cm)), labels=df.Churn.unique())\n",
    "\n",
    "# Add a title and axis labels\n",
    "plt.title('Confusion Matrix')\n",
    "plt.xlabel('Predicted')\n",
    "plt.ylabel('Actual')\n",
    "\n",
    "# Add a colorbar\n",
    "plt.colorbar()\n",
    "\n",
    "# Show the plot\n",
    "plt.show()\n"
   ]
  },
  {
   "cell_type": "code",
   "execution_count": 6,
   "id": "3e9a0467-4670-4717-88fd-9cb7791b7d9b",
   "metadata": {},
   "outputs": [
    {
     "name": "stdout",
     "output_type": "stream",
     "text": [
      "Accuracy: 0.7796706416808632\n"
     ]
    }
   ],
   "source": [
    "import pandas as pd\n",
    "from sklearn.model_selection import train_test_split\n",
    "from sklearn.ensemble import RandomForestClassifier\n",
    "\n",
    "# Load the CSV file\n",
    "df=pd.read_csv(r'WA_Fn-UseC_-Telco-Customer-Churn.csv')\n",
    "\n",
    "# Identify the string columns\n",
    "string_columns = df.select_dtypes(include=['object']).columns\n",
    "\n",
    "# Create a LabelEncoder object for each string column\n",
    "label_encoders = {}\n",
    "for column in string_columns:\n",
    "    label_encoders[column] = LabelEncoder()\n",
    "\n",
    "# Encode the string values in each column\n",
    "for column in string_columns:\n",
    "    df[column] = label_encoders[column].fit_transform(df[column])\n",
    "\n",
    "# Split the data into features and target\n",
    "X = df.drop(columns=['Churn', 'customerID'])\n",
    "y = df['Churn']\n",
    "\n",
    "# Split the data into training and test sets\n",
    "X_train, X_test, y_train, y_test = train_test_split(X, y, test_size=0.25)\n",
    "\n",
    "# Create the random forest model\n",
    "model = RandomForestClassifier()\n",
    "\n",
    "# Fit the model to the training data\n",
    "model.fit(X_train, y_train)\n",
    "\n",
    "# Make predictions on the test data\n",
    "y_pred = model.predict(X_test)\n",
    "\n",
    "# Calculate the accuracy of the model\n",
    "accuracy = model.score(X_test, y_test)\n",
    "\n",
    "# Print the accuracy\n",
    "print('Accuracy:', accuracy)\n"
   ]
  },
  {
   "cell_type": "code",
   "execution_count": null,
   "id": "2842b9d6-6e7c-43a2-93c1-8aee5e8deebd",
   "metadata": {},
   "outputs": [],
   "source": [
    "#!pip install xgboost"
   ]
  },
  {
   "cell_type": "code",
   "execution_count": 7,
   "id": "1aee3bcd-7a7c-4e89-9f05-0c13308006a0",
   "metadata": {},
   "outputs": [
    {
     "name": "stdout",
     "output_type": "stream",
     "text": [
      "   gender  SeniorCitizen  Partner  Dependents  tenure  PhoneService  \\\n",
      "0       0          False    False       False      12         False   \n",
      "\n",
      "   MultipleLines  InternetService  OnlineSecurity  OnlineBackup  \\\n",
      "0           True                2               0             0   \n",
      "\n",
      "   DeviceProtection  TechSupport  StreamingTV  StreamingMovies  Contract  \\\n",
      "0                 0            0            0                0         0   \n",
      "\n",
      "   PaperlessBilling  PaymentMethod  MonthlyCharges  TotalCharges  \n",
      "0                 0              3           700.7        151.65  \n"
     ]
    }
   ],
   "source": [
    "# Make a prediction for a new customer\n",
    "import pandas as pd\n",
    "\n",
    "# Create a new customer data frame\n",
    "new_customer = {\n",
    "    'customerID': 1000,\n",
    "    'gender': 'Female',\n",
    "    'SeniorCitizen': False,\n",
    "    'Partner': False,\n",
    "    'Dependents': False,\n",
    "    'tenure': 12,\n",
    "    'PhoneService': False,\n",
    "    'MultipleLines': True,\n",
    "    'InternetService': 'No',\n",
    "    'OnlineSecurity': 'No',\n",
    "    'OnlineBackup': 'No',\n",
    "    'DeviceProtection': 'No',\n",
    "    'TechSupport': 'No',\n",
    "    'StreamingTV': 'No',\n",
    "    'StreamingMovies': 'No',\n",
    "    'Contract': 'Month-to-month',\n",
    "    'PaperlessBilling': 'No',\n",
    "    'PaymentMethod': 'Mailed check',\n",
    "    'MonthlyCharges': 700.7,\n",
    "    'TotalCharges': 151.65\n",
    "}\n",
    "\n",
    "# Encode the string values in the new customer data\n",
    "new_customer_df = pd.DataFrame([new_customer])\n",
    "string_columns = new_customer_df.select_dtypes(include=['object']).columns\n",
    "for column in string_columns:\n",
    "    new_customer_df[column] = label_encoders[column].transform(new_customer_df[column])\n",
    "\n",
    "\n",
    "\n",
    "# One-hot encode the string columns\n",
    "#new_customer_df = pd.get_dummies(new_customer_df, columns=string_columns)\n",
    "\n",
    "# Drop the customerID column\n",
    "new_customer_df.drop('customerID', axis=1, inplace=True)\n",
    "\n",
    "# Print the new customer data frame\n",
    "print(new_customer_df)\n",
    "\n",
    "\n"
   ]
  },
  {
   "cell_type": "code",
   "execution_count": 8,
   "id": "cddeb821-ec36-4b8b-bbfc-610818dfe756",
   "metadata": {},
   "outputs": [
    {
     "name": "stdout",
     "output_type": "stream",
     "text": [
      "The predicted probability of churn for the new customer is: 0.57\n"
     ]
    }
   ],
   "source": [
    "# Make a prediction for the new customer\n",
    "prediction = model.predict_proba(new_customer_df)[0][1]\n",
    "\n",
    "# Print the prediction\n",
    "print('The predicted probability of churn for the new customer is:', prediction)\n"
   ]
  },
  {
   "cell_type": "code",
   "execution_count": 62,
   "id": "3e8368cd-7d6a-4d1e-b44f-123504cae3eb",
   "metadata": {},
   "outputs": [
    {
     "data": {
      "text/plain": [
       "Index(['gender', 'SeniorCitizen', 'Partner', 'Dependents', 'tenure',\n",
       "       'PhoneService', 'MultipleLines', 'InternetService', 'OnlineSecurity',\n",
       "       'OnlineBackup', 'DeviceProtection', 'TechSupport', 'StreamingTV',\n",
       "       'StreamingMovies', 'Contract', 'PaperlessBilling', 'PaymentMethod',\n",
       "       'MonthlyCharges', 'TotalCharges'],\n",
       "      dtype='object')"
      ]
     },
     "execution_count": 62,
     "metadata": {},
     "output_type": "execute_result"
    }
   ],
   "source": [
    "X.columns"
   ]
  },
  {
   "cell_type": "code",
   "execution_count": null,
   "id": "ecbd3af2-21f7-415d-b63d-3095f85fa139",
   "metadata": {},
   "outputs": [],
   "source": []
  }
 ],
 "metadata": {
  "kernelspec": {
   "display_name": "imageclassification",
   "language": "python",
   "name": "imageclassification"
  },
  "language_info": {
   "codemirror_mode": {
    "name": "ipython",
    "version": 3
   },
   "file_extension": ".py",
   "mimetype": "text/x-python",
   "name": "python",
   "nbconvert_exporter": "python",
   "pygments_lexer": "ipython3",
   "version": "3.9.13"
  }
 },
 "nbformat": 4,
 "nbformat_minor": 5
}
